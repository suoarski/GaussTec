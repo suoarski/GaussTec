{
 "cells": [
  {
   "cell_type": "markdown",
   "id": "4ec40ed7",
   "metadata": {},
   "source": [
    "# PyGplates\n",
    "\n",
    "This notebook uses PyGplates to generate data files that will be used in our main notebook. To run this notebook, use the [instructions linked here](https://github.com/GPlates/pygplates-tutorials) to set up a docker container for PyGplates. \n",
    "\n",
    "# Imports and Helper Functions"
   ]
  },
  {
   "cell_type": "code",
   "execution_count": 1,
   "id": "77ae3cad",
   "metadata": {},
   "outputs": [],
   "source": [
    "import json\n",
    "import pygplates\n",
    "import numpy as np\n",
    "import matplotlib.pyplot as plt\n",
    "from mpl_toolkits.mplot3d import Axes3D, art3d\n",
    "from scipy.spatial.transform import Rotation as R\n",
    "%matplotlib notebook\n",
    "\n",
    "from pathlib import Path\n",
    "mainDir = Path(\".\").parent.absolute().parent.absolute()\n",
    "\n",
    "#Coordinate transformation from spherical polar to cartesian\n",
    "def polarToCartesian(radius, theta, phi, useLonLat=True):\n",
    "    if useLonLat == True:\n",
    "        theta, phi = np.radians(theta+180.), np.radians(90. - phi)\n",
    "    X = radius * np.cos(theta) * np.sin(phi)\n",
    "    Y = radius * np.sin(theta) * np.sin(phi)\n",
    "    Z = radius * np.cos(phi)\n",
    "    \n",
    "    #Return data either as a list of XYZ coordinates or as a single XYZ coordinate\n",
    "    if (type(X) == np.ndarray):\n",
    "        return np.stack((X, Y, Z), axis=1)\n",
    "    else:\n",
    "        return np.array([X, Y, Z])\n",
    "\n",
    "#Coordinate transformation from cartesian to polar\n",
    "def cartesianToPolarCoords(XYZ, useLonLat=True):\n",
    "    X, Y, Z = XYZ[:, 0], XYZ[:, 1], XYZ[:, 2]\n",
    "    R = (X**2 + Y**2 + Z**2)**0.5\n",
    "    theta = np.arctan2(Y, X)\n",
    "    phi = np.arccos(Z / R)\n",
    "    \n",
    "    #Return results either in spherical polar or leave it in radians\n",
    "    if useLonLat == True:\n",
    "        theta, phi = np.degrees(theta), np.degrees(phi)\n",
    "        lon, lat = theta - 180, 90 - phi\n",
    "        lon[lon < -180] = lon[lon < -180] + 360\n",
    "        return R, lon, lat\n",
    "    else:\n",
    "        return R, theta, phi\n",
    "\n",
    "# Read NPZ files for Icosphere data\n",
    "def getIcosphere(subdivisions=4):\n",
    "    fileDir = str(mainDir) + '/Data/SpheresNPZ/IcosphereSubs{}.npz'.format(subdivisions)\n",
    "    data = np.load(fileDir)\n",
    "    return data['vertices'], data['cells']"
   ]
  },
  {
   "cell_type": "markdown",
   "id": "63ec2f27",
   "metadata": {},
   "source": [
    "# PlateIDs\n",
    "\n",
    "The code bellow uses PyGplates to calculate plate IDs of some points."
   ]
  },
  {
   "cell_type": "code",
   "execution_count": 2,
   "id": "b2185689",
   "metadata": {},
   "outputs": [
    {
     "ename": "FileNotFoundError",
     "evalue": "[Errno 2] No such file or directory: './SpheresNPZ/IcosphereSubs4.npz'",
     "output_type": "error",
     "traceback": [
      "\u001b[0;31m---------------------------------------------------------------------------\u001b[0m",
      "\u001b[0;31mFileNotFoundError\u001b[0m                         Traceback (most recent call last)",
      "\u001b[0;32m/tmp/ipykernel_13/1396998072.py\u001b[0m in \u001b[0;36m<module>\u001b[0;34m\u001b[0m\n\u001b[1;32m     33\u001b[0m         \u001b[0;32mreturn\u001b[0m \u001b[0mnp\u001b[0m\u001b[0;34m.\u001b[0m\u001b[0marray\u001b[0m\u001b[0;34m(\u001b[0m\u001b[0mfeatureIds\u001b[0m\u001b[0;34m)\u001b[0m\u001b[0;34m\u001b[0m\u001b[0;34m\u001b[0m\u001b[0m\n\u001b[1;32m     34\u001b[0m \u001b[0;34m\u001b[0m\u001b[0m\n\u001b[0;32m---> 35\u001b[0;31m \u001b[0mP\u001b[0m \u001b[0;34m=\u001b[0m \u001b[0mPlateIdentifyier\u001b[0m\u001b[0;34m(\u001b[0m\u001b[0msubdivisions\u001b[0m\u001b[0;34m=\u001b[0m\u001b[0;36m4\u001b[0m\u001b[0;34m)\u001b[0m\u001b[0;34m\u001b[0m\u001b[0;34m\u001b[0m\u001b[0m\n\u001b[0m\u001b[1;32m     36\u001b[0m \u001b[0mplateIds\u001b[0m \u001b[0;34m=\u001b[0m \u001b[0mP\u001b[0m\u001b[0;34m.\u001b[0m\u001b[0mgetPlateIDs\u001b[0m\u001b[0;34m(\u001b[0m\u001b[0;36m200\u001b[0m\u001b[0;34m)\u001b[0m\u001b[0;34m\u001b[0m\u001b[0;34m\u001b[0m\u001b[0m\n\u001b[1;32m     37\u001b[0m \u001b[0;34m\u001b[0m\u001b[0m\n",
      "\u001b[0;32m/tmp/ipykernel_13/1396998072.py\u001b[0m in \u001b[0;36m__init__\u001b[0;34m(self, subdivisions)\u001b[0m\n\u001b[1;32m     17\u001b[0m \u001b[0;34m\u001b[0m\u001b[0m\n\u001b[1;32m     18\u001b[0m         \u001b[0;31m# Read icosphere file and get lon lat coords\u001b[0m\u001b[0;34m\u001b[0m\u001b[0;34m\u001b[0m\u001b[0;34m\u001b[0m\u001b[0m\n\u001b[0;32m---> 19\u001b[0;31m         \u001b[0mself\u001b[0m\u001b[0;34m.\u001b[0m\u001b[0mverts\u001b[0m\u001b[0;34m,\u001b[0m \u001b[0mself\u001b[0m\u001b[0;34m.\u001b[0m\u001b[0mcells\u001b[0m \u001b[0;34m=\u001b[0m \u001b[0mgetIcosphere\u001b[0m\u001b[0;34m(\u001b[0m\u001b[0msubdivisions\u001b[0m\u001b[0;34m=\u001b[0m\u001b[0msubdivisions\u001b[0m\u001b[0;34m)\u001b[0m\u001b[0;34m\u001b[0m\u001b[0;34m\u001b[0m\u001b[0m\n\u001b[0m\u001b[1;32m     20\u001b[0m         \u001b[0mr\u001b[0m\u001b[0;34m,\u001b[0m \u001b[0mlon\u001b[0m\u001b[0;34m,\u001b[0m \u001b[0mlat\u001b[0m \u001b[0;34m=\u001b[0m \u001b[0mcartesianToPolarCoords\u001b[0m\u001b[0;34m(\u001b[0m\u001b[0mself\u001b[0m\u001b[0;34m.\u001b[0m\u001b[0mverts\u001b[0m\u001b[0;34m)\u001b[0m\u001b[0;34m\u001b[0m\u001b[0;34m\u001b[0m\u001b[0m\n\u001b[1;32m     21\u001b[0m         \u001b[0mself\u001b[0m\u001b[0;34m.\u001b[0m\u001b[0mpointFeats\u001b[0m \u001b[0;34m=\u001b[0m \u001b[0mcreatePointFeatures\u001b[0m\u001b[0;34m(\u001b[0m\u001b[0mlon\u001b[0m\u001b[0;34m,\u001b[0m \u001b[0mlat\u001b[0m\u001b[0;34m)\u001b[0m\u001b[0;34m\u001b[0m\u001b[0;34m\u001b[0m\u001b[0m\n",
      "\u001b[0;32m/tmp/ipykernel_13/2312094946.py\u001b[0m in \u001b[0;36mgetIcosphere\u001b[0;34m(subdivisions)\u001b[0m\n\u001b[1;32m     40\u001b[0m \u001b[0;32mdef\u001b[0m \u001b[0mgetIcosphere\u001b[0m\u001b[0;34m(\u001b[0m\u001b[0msubdivisions\u001b[0m\u001b[0;34m=\u001b[0m\u001b[0;36m4\u001b[0m\u001b[0;34m)\u001b[0m\u001b[0;34m:\u001b[0m\u001b[0;34m\u001b[0m\u001b[0;34m\u001b[0m\u001b[0m\n\u001b[1;32m     41\u001b[0m     \u001b[0mfileDir\u001b[0m \u001b[0;34m=\u001b[0m \u001b[0;34m'./SpheresNPZ/IcosphereSubs{}.npz'\u001b[0m\u001b[0;34m.\u001b[0m\u001b[0mformat\u001b[0m\u001b[0;34m(\u001b[0m\u001b[0msubdivisions\u001b[0m\u001b[0;34m)\u001b[0m\u001b[0;34m\u001b[0m\u001b[0;34m\u001b[0m\u001b[0m\n\u001b[0;32m---> 42\u001b[0;31m     \u001b[0mdata\u001b[0m \u001b[0;34m=\u001b[0m \u001b[0mnp\u001b[0m\u001b[0;34m.\u001b[0m\u001b[0mload\u001b[0m\u001b[0;34m(\u001b[0m\u001b[0mfileDir\u001b[0m\u001b[0;34m)\u001b[0m\u001b[0;34m\u001b[0m\u001b[0;34m\u001b[0m\u001b[0m\n\u001b[0m\u001b[1;32m     43\u001b[0m     \u001b[0;32mreturn\u001b[0m \u001b[0mdata\u001b[0m\u001b[0;34m[\u001b[0m\u001b[0;34m'vertices'\u001b[0m\u001b[0;34m]\u001b[0m\u001b[0;34m,\u001b[0m \u001b[0mdata\u001b[0m\u001b[0;34m[\u001b[0m\u001b[0;34m'cells'\u001b[0m\u001b[0;34m]\u001b[0m\u001b[0;34m\u001b[0m\u001b[0;34m\u001b[0m\u001b[0m\n",
      "\u001b[0;32m/usr/local/lib/python3.8/dist-packages/numpy/lib/npyio.py\u001b[0m in \u001b[0;36mload\u001b[0;34m(file, mmap_mode, allow_pickle, fix_imports, encoding)\u001b[0m\n\u001b[1;32m    415\u001b[0m             \u001b[0mown_fid\u001b[0m \u001b[0;34m=\u001b[0m \u001b[0;32mFalse\u001b[0m\u001b[0;34m\u001b[0m\u001b[0;34m\u001b[0m\u001b[0m\n\u001b[1;32m    416\u001b[0m         \u001b[0;32melse\u001b[0m\u001b[0;34m:\u001b[0m\u001b[0;34m\u001b[0m\u001b[0;34m\u001b[0m\u001b[0m\n\u001b[0;32m--> 417\u001b[0;31m             \u001b[0mfid\u001b[0m \u001b[0;34m=\u001b[0m \u001b[0mstack\u001b[0m\u001b[0;34m.\u001b[0m\u001b[0menter_context\u001b[0m\u001b[0;34m(\u001b[0m\u001b[0mopen\u001b[0m\u001b[0;34m(\u001b[0m\u001b[0mos_fspath\u001b[0m\u001b[0;34m(\u001b[0m\u001b[0mfile\u001b[0m\u001b[0;34m)\u001b[0m\u001b[0;34m,\u001b[0m \u001b[0;34m\"rb\"\u001b[0m\u001b[0;34m)\u001b[0m\u001b[0;34m)\u001b[0m\u001b[0;34m\u001b[0m\u001b[0;34m\u001b[0m\u001b[0m\n\u001b[0m\u001b[1;32m    418\u001b[0m             \u001b[0mown_fid\u001b[0m \u001b[0;34m=\u001b[0m \u001b[0;32mTrue\u001b[0m\u001b[0;34m\u001b[0m\u001b[0;34m\u001b[0m\u001b[0m\n\u001b[1;32m    419\u001b[0m \u001b[0;34m\u001b[0m\u001b[0m\n",
      "\u001b[0;31mFileNotFoundError\u001b[0m: [Errno 2] No such file or directory: './SpheresNPZ/IcosphereSubs4.npz'"
     ]
    }
   ],
   "source": [
    "#Creates a list of point features for each vertex on our sphere\n",
    "def createPointFeatures(lon, lat):\n",
    "    pointsOnSphere = [pygplates.PointOnSphere(float(lat[i]), float(lon[i])) for i in range(len(lon))]\n",
    "    pointFeatures = []\n",
    "    for point in pointsOnSphere:\n",
    "        pointFeature = pygplates.Feature()\n",
    "        pointFeature.set_geometry(point)\n",
    "        pointFeatures.append(pointFeature)\n",
    "    return pointFeatures\n",
    "\n",
    "# Assigns plate IDs to points on icosphere\n",
    "class PlateIdentifyier:\n",
    "    def __init__(self, subdivisions=4):\n",
    "        self.platePolyFileDir = './Data/Matthews_etal_GPC_2016_MesozoicCenozoic_PlateTopologies_PMAG.gpmlz'\n",
    "        self.rotationsFileDir = './Data/Matthews_etal_GPC_2016_410-0Ma_GK07_PMAG.rot'\n",
    "        self.subdivisions = subdivisions\n",
    "        \n",
    "        # Read icosphere file and get lon lat coords\n",
    "        self.verts, self.cells = getIcosphere(subdivisions=subdivisions)\n",
    "        r, lon, lat = cartesianToPolarCoords(self.verts)\n",
    "        self.pointFeats = createPointFeatures(lon, lat)\n",
    "        \n",
    "    def getPlateIDs(self, time):\n",
    "        assignedPointFeatures = pygplates.partition_into_plates(\n",
    "            self.platePolyFileDir,\n",
    "            self.rotationsFileDir,\n",
    "            self.pointFeats,\n",
    "            reconstruction_time=float(time),\n",
    "            properties_to_copy = [\n",
    "                pygplates.PartitionProperty.reconstruction_plate_id,\n",
    "                pygplates.PartitionProperty.valid_time_period])\n",
    "        featureIds = [feat.get_reconstruction_plate_id() for feat in assignedPointFeatures]\n",
    "        return np.array(featureIds)\n",
    "        \n",
    "P = PlateIdentifyier(subdivisions=4)\n",
    "plateIds = P.getPlateIDs(200)\n",
    "\n",
    "# Set colors\n",
    "c = np.mean(plateIds[P.cells], axis=1)\n",
    "norm = plt.Normalize(c.min(), c.max())\n",
    "colors = plt.cm.viridis(norm(c))\n",
    "\n",
    "# Plot sphere\n",
    "fig = plt.figure(figsize=(8, 4))\n",
    "ax = fig.add_subplot(projection=\"3d\")\n",
    "pc = art3d.Poly3DCollection(P.verts[P.cells], color=colors)\n",
    "ax.add_collection(pc)\n",
    "\n",
    "ax.grid(False)\n",
    "ax.set_xlim3d(-0.8, 0.8)\n",
    "ax.set_ylim3d(-0.8, 0.8)\n",
    "ax.set_zlim3d(-0.8, 0.8)\n",
    "ax.set_xticks([])\n",
    "ax.set_yticks([])\n",
    "ax.set_zticks([])\n",
    "plt.axis('off')\n",
    "plt.show()"
   ]
  },
  {
   "cell_type": "markdown",
   "id": "723d991a",
   "metadata": {},
   "source": [
    "We can then use the code bellow to automatically generate NPZ files of plate ids for a given icosphere at various time steps."
   ]
  },
  {
   "cell_type": "code",
   "execution_count": null,
   "id": "f77f24e7",
   "metadata": {},
   "outputs": [],
   "source": [
    "if False:\n",
    "    saveDirFormat = './PlateIDs/Sub{}/Time{}.npz'\n",
    "\n",
    "    # Create plate ID identifyer\n",
    "    P = PlateIdentifyier(subdivisions=7)\n",
    "\n",
    "    for time in range(201):\n",
    "        plateIds = P.getPlateIDs(time)\n",
    "        saveDir = saveDirFormat.format(P.subdivisions, time)\n",
    "        np.savez(saveDir, ids=plateIds)"
   ]
  },
  {
   "cell_type": "markdown",
   "id": "51fd18ef",
   "metadata": {},
   "source": [
    "# Rotations"
   ]
  },
  {
   "cell_type": "code",
   "execution_count": 12,
   "id": "30627d1a",
   "metadata": {
    "scrolled": true
   },
   "outputs": [],
   "source": [
    "class Rotations:\n",
    "    def __init__(self):\n",
    "        self.rotationsFileDir = './Data/Matthews_etal_GPC_2016_410-0Ma_GK07_PMAG.rot'\n",
    "        self.rotationModel = pygplates.RotationModel(self.rotationsFileDir)\n",
    "\n",
    "    #Get stage rotation data from pygplates and return a scipy rotation\n",
    "    def getRotations(self, time, deltaTime, plateIds):\n",
    "        axii, angles = {}, {}\n",
    "        for plateId in np.unique(plateIds):\n",
    "            stageRotation = self.rotationModel.get_rotation(int(time-deltaTime), int(plateId), int(time))\n",
    "            stageRotation = stageRotation.get_euler_pole_and_angle()\n",
    "\n",
    "            #Create rotation quaternion from axis and angle\n",
    "            axisLatLon = stageRotation[0].to_lat_lon()\n",
    "            axii[int(plateId)] = list(polarToCartesian(1, axisLatLon[1], axisLatLon[0]))\n",
    "            angles[int(plateId)] = stageRotation[1]\n",
    "        \n",
    "        # Put axii and angles into a dictionary\n",
    "        rotationsDict = {\n",
    "            'axii' : axii,\n",
    "            'angles' : angles\n",
    "        }\n",
    "        return rotationsDict\n",
    "\n",
    "if False:\n",
    "    time = 200\n",
    "    deltaTime = 1\n",
    "    P = PlateIdentifyier(subdivisions=7)\n",
    "    rots = Rotations()\n",
    "\n",
    "    rotations = {}\n",
    "    for time in range(201):\n",
    "        print(time)\n",
    "        plateIds = P.getPlateIDs(time)\n",
    "        rotations[int(time)] = rots.getRotations(time, deltaTime, plateIds)\n",
    "\n",
    "    # Write data as JSON\n",
    "    rotJson = json.dumps(rotations)\n",
    "    f = open(\"PlateRotations.json\", \"w\")\n",
    "    f.write(rotJson)\n",
    "    f.close()"
   ]
  },
  {
   "cell_type": "code",
   "execution_count": null,
   "id": "1f8ef4d2",
   "metadata": {},
   "outputs": [],
   "source": []
  },
  {
   "cell_type": "code",
   "execution_count": null,
   "id": "c04d2a42",
   "metadata": {},
   "outputs": [],
   "source": []
  }
 ],
 "metadata": {
  "kernelspec": {
   "display_name": "Python 3 (ipykernel)",
   "language": "python",
   "name": "python3"
  },
  "language_info": {
   "codemirror_mode": {
    "name": "ipython",
    "version": 3
   },
   "file_extension": ".py",
   "mimetype": "text/x-python",
   "name": "python",
   "nbconvert_exporter": "python",
   "pygments_lexer": "ipython3",
   "version": "3.8.10"
  }
 },
 "nbformat": 4,
 "nbformat_minor": 5
}
