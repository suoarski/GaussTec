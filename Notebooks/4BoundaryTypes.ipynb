{
 "cells": [
  {
   "cell_type": "code",
   "execution_count": 1,
   "metadata": {},
   "outputs": [],
   "source": [
    "import sys\n",
    "import numpy as np\n",
    "import pyvista as pv\n",
    "import matplotlib.pyplot as plt\n",
    "\n",
    "# Import custom module for Gaussian particles\n",
    "sys.path.insert(1, '../SphericalGaussianTectonics')\n",
    "from GaussianParticles import GaussParticlesSphere\n",
    "from ParticleSimulator import ParticleSimulator\n",
    "from HelperFunctions import *\n",
    "from Forces import * \n",
    "\n",
    "# Used to automatically reload custom modules (for when I'm changing them all the time)\n",
    "%load_ext autoreload\n",
    "%autoreload 2"
   ]
  },
  {
   "cell_type": "code",
   "execution_count": 2,
   "metadata": {},
   "outputs": [
    {
     "data": {
      "application/vnd.jupyter.widget-view+json": {
       "model_id": "7c36742ef8234e8795123260dc2cb47f",
       "version_major": 2,
       "version_minor": 0
      },
      "text/plain": [
       "Viewer(background=(1.0, 1.0, 1.0), geometries=[{'vtkClass': 'vtkPolyData', 'points': {'vtkClass': 'vtkPoints',…"
      ]
     },
     "metadata": {},
     "output_type": "display_data"
    },
    {
     "data": {
      "application/vnd.jupyter.widget-view+json": {
       "model_id": "7c36742ef8234e8795123260dc2cb47f",
       "version_major": 2,
       "version_minor": 0
      },
      "text/plain": [
       "Viewer(background=(1.0, 1.0, 1.0), geometries=[{'vtkClass': 'vtkPolyData', 'points': {'vtkClass': 'vtkPoints',…"
      ]
     },
     "metadata": {},
     "output_type": "display_data"
    }
   ],
   "source": [
    "# Initiate particles and forces\n",
    "parts = GaussParticlesSphere(subdivisions=6, smoothness=2, plotSubdivisions=6, numNeighbs=100)\n",
    "forces = [\n",
    "    PlateMover(),\n",
    "    ParticleCollider(),\n",
    "    Despawner(),\n",
    "    Spawner(),\n",
    "    ProjectOntoSphere()\n",
    "]\n",
    "\n",
    "# Run simulation\n",
    "sim = ParticleSimulator(parts, forces=forces, startTime=10, endTime=0, dt=1, lookAtLonLat=[20, -30], cameraZoom=1.4)\n",
    "#sim.animate()\n",
    "sim.runSimulation()\n",
    "\n",
    "# Plot results\n",
    "plotter = pv.PlotterITK()\n",
    "plotter.add_mesh(parts.mesh, scalars=parts.evaluate())\n",
    "plotter.background_color = 'white'\n",
    "plotter.show()"
   ]
  },
  {
   "cell_type": "code",
   "execution_count": null,
   "metadata": {},
   "outputs": [],
   "source": []
  },
  {
   "cell_type": "code",
   "execution_count": null,
   "metadata": {},
   "outputs": [],
   "source": []
  },
  {
   "cell_type": "code",
   "execution_count": null,
   "metadata": {},
   "outputs": [],
   "source": []
  }
 ],
 "metadata": {
  "kernelspec": {
   "display_name": "Python 3.9.9 64-bit",
   "language": "python",
   "name": "python3"
  },
  "language_info": {
   "codemirror_mode": {
    "name": "ipython",
    "version": 3
   },
   "file_extension": ".py",
   "mimetype": "text/x-python",
   "name": "python",
   "nbconvert_exporter": "python",
   "pygments_lexer": "ipython3",
   "version": "3.9.9"
  },
  "orig_nbformat": 4,
  "vscode": {
   "interpreter": {
    "hash": "11938c6bc6919ae2720b4d5011047913343b08a43b18698fd82dedb0d4417594"
   }
  }
 },
 "nbformat": 4,
 "nbformat_minor": 2
}
